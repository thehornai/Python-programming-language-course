{
 "cells": [
  {
   "cell_type": "code",
   "execution_count": 10,
   "metadata": {},
   "outputs": [
    {
     "name": "stdout",
     "output_type": "stream",
     "text": [
      "['Abdikafi', 'Abdulrazak', 'Mohamed', 'Abdirahman', 'Yahye', 'Abdulawwal', 'Sayid Ali', 'Abdulkadir']\n",
      "['Abdikafi', 'Abdulrazak', 'Mohamed', 'Abdirahman', 'Yahye', 'Abdulawwal', 'Sayid Ali', 'Abdulkadir']\n"
     ]
    }
   ],
   "source": [
    "def print_names(nam):\n",
    "    nam[1]=\"Abdulrazak\"\n",
    "    print(nam)\n",
    "    \n",
    "    \n",
    "name=['Abdikafi','Maxamed','Mohamed',\"Abdirahman\",'Yahye','Abdulawwal','Sayid Ali','Abdulkadir']\n",
    "print_names(name)\n",
    "print(name)"
   ]
  },
  {
   "cell_type": "code",
   "execution_count": 11,
   "metadata": {},
   "outputs": [
    {
     "name": "stdout",
     "output_type": "stream",
     "text": [
      "['Ali', 'Farah', 'Geedi', 'Warsame', 'Muriidi']\n",
      "['Abdikafi', 'Maxamed', 'Mohamed', 'Abdirahman', 'Yahye', 'Abdulawwal', 'Sayid Ali', 'Abdulkadir']\n"
     ]
    }
   ],
   "source": [
    "def daabac_Magac(nam):\n",
    "    nam=[\"Ali\",\"Farah\",\"Geedi\",\"Warsame\",\"Muriidi\"]\n",
    "    print(nam)\n",
    "    \n",
    "    \n",
    "name=['Abdikafi','Maxamed','Mohamed',\"Abdirahman\",'Yahye','Abdulawwal','Sayid Ali','Abdulkadir']\n",
    "daabac_Magac(name)\n",
    "print(name)"
   ]
  },
  {
   "cell_type": "code",
   "execution_count": null,
   "metadata": {},
   "outputs": [],
   "source": []
  },
  {
   "cell_type": "code",
   "execution_count": null,
   "metadata": {},
   "outputs": [],
   "source": []
  },
  {
   "cell_type": "code",
   "execution_count": 12,
   "metadata": {},
   "outputs": [],
   "source": [
    "def calculate():\n",
    "    \"\"\"\n",
    "    this function returns the multiplication of a * b.\n",
    "    \"\"\"\n",
    "    a = 54\n",
    "    b = 10\n",
    "    return a*b"
   ]
  },
  {
   "cell_type": "code",
   "execution_count": 13,
   "metadata": {},
   "outputs": [
    {
     "data": {
      "text/plain": [
       "540"
      ]
     },
     "execution_count": 13,
     "metadata": {},
     "output_type": "execute_result"
    }
   ],
   "source": [
    "calculate()"
   ]
  },
  {
   "cell_type": "code",
   "execution_count": 36,
   "metadata": {},
   "outputs": [
    {
     "name": "stdout",
     "output_type": "stream",
     "text": [
      "540\n"
     ]
    }
   ],
   "source": [
    "mul = lambda a, b : a *b\n",
    "print(mul(54,10))"
   ]
  },
  {
   "cell_type": "code",
   "execution_count": 15,
   "metadata": {},
   "outputs": [],
   "source": [
    "def iidaabac(str):\n",
    "    print(str)\n",
    "    "
   ]
  },
  {
   "cell_type": "code",
   "execution_count": 17,
   "metadata": {},
   "outputs": [
    {
     "name": "stdout",
     "output_type": "stream",
     "text": [
      "My lactures name is Abdirizak\n"
     ]
    }
   ],
   "source": [
    "iidaabac(\"My lactures name is Abdirizak\")"
   ]
  },
  {
   "cell_type": "markdown",
   "metadata": {},
   "source": [
    "## keyward argument"
   ]
  },
  {
   "cell_type": "code",
   "execution_count": 20,
   "metadata": {},
   "outputs": [],
   "source": [
    "def myinfo(name,age,phone):\n",
    "    phone = '061767676xxx'\n",
    "    print(name,age,phone)\n",
    "    "
   ]
  },
  {
   "cell_type": "code",
   "execution_count": 21,
   "metadata": {},
   "outputs": [
    {
     "name": "stdout",
     "output_type": "stream",
     "text": [
      "abdulrazak 31 061767676xxx\n"
     ]
    }
   ],
   "source": [
    "myinfo(name=\"abdulrazak\", age=31, phone=\"+252618976578\")"
   ]
  },
  {
   "cell_type": "markdown",
   "metadata": {},
   "source": [
    "## default argument"
   ]
  },
  {
   "cell_type": "code",
   "execution_count": 24,
   "metadata": {},
   "outputs": [],
   "source": [
    "def me(name='dasar',age=67,phone='25261697'):\n",
    "    print(name,age,phone)\n",
    "    "
   ]
  },
  {
   "cell_type": "code",
   "execution_count": 28,
   "metadata": {},
   "outputs": [
    {
     "name": "stdout",
     "output_type": "stream",
     "text": [
      "dasar 67 25261697\n",
      "zahra 67 25261697\n",
      "540 12 25261697\n"
     ]
    }
   ],
   "source": [
    "me()\n",
    "me('zahra')\n",
    "me('ali',12)\n",
    "me()"
   ]
  },
  {
   "cell_type": "markdown",
   "metadata": {},
   "source": [
    "##  variable lengeth arguments"
   ]
  },
  {
   "cell_type": "code",
   "execution_count": 31,
   "metadata": {},
   "outputs": [],
   "source": [
    "def tikainfo(arg, *tuples):\n",
    "    print(arg)\n",
    "    for v in tuples:\n",
    "        print(v)\n",
    "        \n"
   ]
  },
  {
   "cell_type": "code",
   "execution_count": 32,
   "metadata": {},
   "outputs": [
    {
     "name": "stdout",
     "output_type": "stream",
     "text": [
      "5\n",
      "2\n",
      "4\n",
      "7\n"
     ]
    }
   ],
   "source": [
    "tikainfo(5)\n",
    "tikainfo(2,4,7)"
   ]
  },
  {
   "cell_type": "code",
   "execution_count": null,
   "metadata": {},
   "outputs": [],
   "source": []
  }
 ],
 "metadata": {
  "kernelspec": {
   "display_name": "Python 3",
   "language": "python",
   "name": "python3"
  },
  "language_info": {
   "codemirror_mode": {
    "name": "ipython",
    "version": 3
   },
   "file_extension": ".py",
   "mimetype": "text/x-python",
   "name": "python",
   "nbconvert_exporter": "python",
   "pygments_lexer": "ipython3",
   "version": "3.7.4"
  }
 },
 "nbformat": 4,
 "nbformat_minor": 2
}
