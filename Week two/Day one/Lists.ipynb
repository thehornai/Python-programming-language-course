{
 "cells": [
  {
   "cell_type": "markdown",
   "metadata": {},
   "source": [
    "# Lists"
   ]
  },
  {
   "cell_type": "markdown",
   "metadata": {},
   "source": [
    "To create a list, just put all the values inside square brackets and separate the values by commas."
   ]
  },
  {
   "cell_type": "code",
   "execution_count": 4,
   "metadata": {},
   "outputs": [
    {
     "name": "stdout",
     "output_type": "stream",
     "text": [
      "[1, 'Ali', 3.7, 4.7j, 3, 190, 'hello python Lists', -90]\n"
     ]
    }
   ],
   "source": [
    "C = [ 1, \"Ali\", 3.7, 4.7j, 3, 190, \"hello python Lists\", -90]\n",
    "print(C)"
   ]
  },
  {
   "cell_type": "markdown",
   "metadata": {},
   "source": [
    "The variable \"C\" now referes to a list object holding 8 list elements. Every element in a list is associated with an index which reflects the position of the element in the list. If you want to access the first element of the list object, you can use an index 0, for example C[0] refers to 1 while C[1] refers to \"Ali\"."
   ]
  },
  {
   "cell_type": "markdown",
   "metadata": {},
   "source": [
    "**Accessing values in a list**"
   ]
  },
  {
   "cell_type": "code",
   "execution_count": 5,
   "metadata": {},
   "outputs": [
    {
     "name": "stdout",
     "output_type": "stream",
     "text": [
      "1\n",
      "Ali\n",
      "[1, 'Ali', 3.7, 4.7j]\n",
      "-90 hello python Lists\n"
     ]
    }
   ],
   "source": [
    "print(C[0])  #refers to 1 values in the list\n",
    "print(C[1])  # refers to 'Ali' values in the list\n",
    "print(C[0:4])  # between 0 to the 4th values in the list\n",
    "print(C[-1], C[-2])  # negative values allows you to read the data from the last values."
   ]
  },
  {
   "cell_type": "markdown",
   "metadata": {},
   "source": [
    "- you can list of number by using range function in python."
   ]
  },
  {
   "cell_type": "code",
   "execution_count": 6,
   "metadata": {},
   "outputs": [
    {
     "name": "stdout",
     "output_type": "stream",
     "text": [
      "[1, 2, 3, 4, 5, 6, 7, 8, 9]\n"
     ]
    }
   ],
   "source": [
    "N = list(range(1,10))\n",
    "print(N)"
   ]
  },
  {
   "cell_type": "code",
   "execution_count": 7,
   "metadata": {},
   "outputs": [
    {
     "name": "stdout",
     "output_type": "stream",
     "text": [
      "[1, 3, 5, 7, 9]\n"
     ]
    }
   ],
   "source": [
    "N = list(range(1,10,2))\n",
    "print(N)"
   ]
  },
  {
   "cell_type": "markdown",
   "metadata": {},
   "source": [
    "### Basic operations of List"
   ]
  },
  {
   "cell_type": "markdown",
   "metadata": {},
   "source": [
    "**Updating element in a list**"
   ]
  },
  {
   "cell_type": "code",
   "execution_count": 8,
   "metadata": {},
   "outputs": [
    {
     "name": "stdout",
     "output_type": "stream",
     "text": [
      "[1, 'Ali', 3.7, 4.7j, 3, 190, 'hello python Lists', -90]\n",
      "[3, 'Ali', 3.7, 4.7j, 3, 190, 'hello python Lists', -90]\n"
     ]
    }
   ],
   "source": [
    "print(C)\n",
    "C[0] = 3          #mutuable \n",
    "print(C)"
   ]
  },
  {
   "cell_type": "markdown",
   "metadata": {},
   "source": [
    "**List Operations**"
   ]
  },
  {
   "cell_type": "code",
   "execution_count": 10,
   "metadata": {},
   "outputs": [
    {
     "name": "stdout",
     "output_type": "stream",
     "text": [
      "5\n",
      "[1, 45, 'Sadik', 'IQ', -90, 1, 45, 'Sadik', 'IQ', -90]\n",
      "[1, 45, 'Sadik', 'IQ', -90, 1, 45, 'Sadik', 'IQ', -90, 1, 45, 'Sadik', 'IQ', -90]\n",
      "[1, 45, 'Sadik', 'IQ', -90, 1, 45, 'Sadik', 'IQ', -90, 1, 45, 'Sadik', 'IQ', -90, 1, 45, 'Sadik', 'IQ', -90]\n",
      "True\n"
     ]
    }
   ],
   "source": [
    "A = [1, 45, 'Sadik', 'IQ', -90]\n",
    "print (len(A))       #prints the length of the List.\n",
    "print(A + A)         #concatenates the two list\n",
    "print(A*3)\n",
    "print(A*4)      #Repeates the values in the list three times, or four time and so forth.\n",
    "print('Sadik' in A)  #return True if the value \"Sadik\" is in the list A, memebership operators."
   ]
  },
  {
   "cell_type": "code",
   "execution_count": 72,
   "metadata": {},
   "outputs": [
    {
     "name": "stdout",
     "output_type": "stream",
     "text": [
      "1 45 Sadik IQ -90 "
     ]
    }
   ],
   "source": [
    "for v in A:                    #iterations and memebership operators..\n",
    "    print(v, end=' ')"
   ]
  },
  {
   "cell_type": "markdown",
   "metadata": {},
   "source": [
    "**Indexing, slicing and Matrix**"
   ]
  },
  {
   "cell_type": "code",
   "execution_count": 73,
   "metadata": {},
   "outputs": [
    {
     "name": "stdout",
     "output_type": "stream",
     "text": [
      "JAVA\n",
      "Python\n",
      "['JAVA', 'Python']\n"
     ]
    }
   ],
   "source": [
    "L =['C++', 'JAVA', 'Python']\n",
    "print(L[1])          #returns the 2nd element in the list which is 'JAVA'.\n",
    "print(L[-1])          #returns the last element of the list.\n",
    "print(L[1:])          #slicing fetches sections. returns al the elements after 1. "
   ]
  },
  {
   "cell_type": "markdown",
   "metadata": {},
   "source": [
    "**Built in List Functionn**"
   ]
  },
  {
   "cell_type": "code",
   "execution_count": 11,
   "metadata": {},
   "outputs": [
    {
     "name": "stdout",
     "output_type": "stream",
     "text": [
      "8\n",
      "900\n",
      "-89\n"
     ]
    }
   ],
   "source": [
    "M = [12, 23, 10, 900, -1, 4, -2, -89]\n",
    "print(len(M))   #return the length of the list.\n",
    "print(max(M))   #return the maximum value in the list.\n",
    "print(min(M))   #returns the minimum value in the list."
   ]
  },
  {
   "cell_type": "markdown",
   "metadata": {},
   "source": [
    "**Built in List Methods**"
   ]
  },
  {
   "cell_type": "code",
   "execution_count": 13,
   "metadata": {},
   "outputs": [
    {
     "name": "stdout",
     "output_type": "stream",
     "text": [
      "[12, 32, -0.9, -12, 23, -32, 12, -12, 12]\n"
     ]
    }
   ],
   "source": [
    "X = [12, 32, -0.9, -12, 23, -32, 12, -12, 12]\n",
    "print(X)"
   ]
  },
  {
   "cell_type": "markdown",
   "metadata": {},
   "source": [
    "list.append(obj): appends a new object to list."
   ]
  },
  {
   "cell_type": "code",
   "execution_count": 14,
   "metadata": {},
   "outputs": [
    {
     "name": "stdout",
     "output_type": "stream",
     "text": [
      "[12, 32, -0.9, -12, 23, -32, 12, -12, 12, -20]\n"
     ]
    }
   ],
   "source": [
    "X.append(-20)\n",
    "print(X)"
   ]
  },
  {
   "cell_type": "markdown",
   "metadata": {},
   "source": [
    "list.count(obj): counts the number of occurencies of the object in the list.'"
   ]
  },
  {
   "cell_type": "code",
   "execution_count": 16,
   "metadata": {},
   "outputs": [
    {
     "name": "stdout",
     "output_type": "stream",
     "text": [
      "3\n"
     ]
    }
   ],
   "source": [
    "print(X.count(12))"
   ]
  },
  {
   "cell_type": "code",
   "execution_count": 62,
   "metadata": {},
   "outputs": [
    {
     "name": "stdout",
     "output_type": "stream",
     "text": [
      "extends the list with the passed objects\n",
      "[12, 32, -0.9, -12, 23, -32, 12, -12, 12, -20, 23, 12]\n"
     ]
    }
   ],
   "source": [
    "print('extends the list with the passed objects')\n",
    "X.extend([23, 12])\n",
    "print(X)"
   ]
  },
  {
   "cell_type": "code",
   "execution_count": 17,
   "metadata": {},
   "outputs": [
    {
     "name": "stdout",
     "output_type": "stream",
     "text": [
      "return the index of a given object in the list\n",
      "0 2\n"
     ]
    }
   ],
   "source": [
    "print('return the index of a given object in the list')\n",
    "print(X.index(12), X.index(-0.9))"
   ]
  },
  {
   "cell_type": "code",
   "execution_count": 18,
   "metadata": {},
   "outputs": [
    {
     "name": "stdout",
     "output_type": "stream",
     "text": [
      "inserts a new element to a specified position in the list.\n",
      "[12, 32, -0.9, -12, 23, -32, 12, -12, 12, 'sacdiyo', -20]\n"
     ]
    }
   ],
   "source": [
    "print('inserts a new element to a specified position in the list.')\n",
    "X.insert(9, 'sacdiyo')\n",
    "print(X)"
   ]
  },
  {
   "cell_type": "code",
   "execution_count": 19,
   "metadata": {},
   "outputs": [
    {
     "name": "stdout",
     "output_type": "stream",
     "text": [
      "removes and returns the last object of the list or specified index\n",
      "[12, 32, -0.9, -12, 23, -32, 12, -12, 12, 'sacdiyo', -20]\n",
      "12\n",
      "[32, -0.9, -12, 23, -32, 12, -12, 12, 'sacdiyo', -20]\n"
     ]
    }
   ],
   "source": [
    "print('removes and returns the last object of the list or specified index')\n",
    "print(X)\n",
    "print(X.pop(0)) \n",
    "print(X)"
   ]
  },
  {
   "cell_type": "code",
   "execution_count": 51,
   "metadata": {},
   "outputs": [
    {
     "name": "stdout",
     "output_type": "stream",
     "text": [
      "[32, -0.9, -12, -32, 12, -12, 12, 23, -20, 23, 12]\n"
     ]
    }
   ],
   "source": [
    "print('removes the object from the list')\n",
    "X.remove(23)\n",
    "print(X)"
   ]
  },
  {
   "cell_type": "code",
   "execution_count": 20,
   "metadata": {},
   "outputs": [
    {
     "name": "stdout",
     "output_type": "stream",
     "text": [
      "Reverses objects of list in place\n",
      "[-20, 'sacdiyo', 12, -12, 12, -32, 23, -12, -0.9, 32]\n"
     ]
    }
   ],
   "source": [
    "print('Reverses objects of list in place')\n",
    "X.reverse()\n",
    "print(X)"
   ]
  },
  {
   "cell_type": "markdown",
   "metadata": {},
   "source": [
    "Del statement: removes an element from a specific index."
   ]
  },
  {
   "cell_type": "code",
   "execution_count": 22,
   "metadata": {},
   "outputs": [
    {
     "name": "stdout",
     "output_type": "stream",
     "text": [
      "[-20, 'sacdiyo', 12, -12, 12, -32, 23, -12, -0.9, 32]\n",
      "the second object in the list was removed!\n",
      "[-20, 12, -12, 12, -32, 23, -12, -0.9, 32]\n"
     ]
    }
   ],
   "source": [
    "print(X)\n",
    "del X[1]\n",
    "print('the second object in the list was removed!')\n",
    "print(X)"
   ]
  },
  {
   "cell_type": "markdown",
   "metadata": {},
   "source": [
    "#### List comprehension"
   ]
  },
  {
   "cell_type": "code",
   "execution_count": 23,
   "metadata": {},
   "outputs": [
    {
     "name": "stdout",
     "output_type": "stream",
     "text": [
      "[12, 21, 11, 22, 32]\n",
      "[24, 42, 22, 44, 64]\n",
      "[144, 441, 121, 484, 1024]\n"
     ]
    }
   ],
   "source": [
    "P = [12, 21, 11, 22, 32]\n",
    "L = [2*r for r in P]\n",
    "print(P)\n",
    "print(L)\n",
    "S = [ s*s for s in P]\n",
    "print(S)\n"
   ]
  },
  {
   "cell_type": "code",
   "execution_count": 81,
   "metadata": {},
   "outputs": [
    {
     "name": "stdout",
     "output_type": "stream",
     "text": [
      "[12, 21, 11, 22, 32]\n",
      "[10, 21, 2, 3, 4]\n",
      "[120, 441, 22, 66, 128]\n"
     ]
    }
   ],
   "source": [
    "X = [12, 21, 11, 22, 32]\n",
    "Y = [10, 21, 2, 3, 4]\n",
    "L = [x*y for x,y in  zip(X,Y)]\n",
    "print(X)\n",
    "print(Y)\n",
    "print(L)"
   ]
  },
  {
   "cell_type": "code",
   "execution_count": 24,
   "metadata": {},
   "outputs": [
    {
     "name": "stdout",
     "output_type": "stream",
     "text": [
      "[120, 252, 24, 36, 48, 210, 441, 42, 63, 84, 110, 231, 22, 33, 44, 220, 462, 44, 66, 88, 320, 672, 64, 96, 128]\n"
     ]
    }
   ],
   "source": [
    "X = [12, 21, 11, 22, 32]\n",
    "Y = [10, 21, 2, 3, 4]\n",
    "L=[]\n",
    "for  x in X:\n",
    "    for y in Y:\n",
    "        L.append(x*y)\n",
    "print(L)       "
   ]
  },
  {
   "cell_type": "markdown",
   "metadata": {},
   "source": [
    "### Nested Lists"
   ]
  },
  {
   "cell_type": "markdown",
   "metadata": {},
   "source": [
    "Lists of list are also known as **Nested Lists** or **two dimensional Lists**. "
   ]
  },
  {
   "cell_type": "code",
   "execution_count": 26,
   "metadata": {},
   "outputs": [],
   "source": [
    "L = [ \n",
    "       [\n",
    "           [1, 2, 3, 4, 5],\n",
    "           [2, 3, 4, 2, 2], \n",
    "           [2, 3, 4, 2, 2] \n",
    "                              ],\n",
    "       [\n",
    "           [1, 2, 3, 4, 5], \n",
    "           [2, 3, 4, 2, 2], \n",
    "           [2, 3, 4, 2, 2] \n",
    "                                ],\n",
    "    \n",
    "                                            ]"
   ]
  },
  {
   "cell_type": "code",
   "execution_count": 27,
   "metadata": {},
   "outputs": [
    {
     "name": "stdout",
     "output_type": "stream",
     "text": [
      "[[[1, 2, 3, 4, 5], [2, 3, 4, 2, 2], [2, 3, 4, 2, 2]], [[1, 2, 3, 4, 5], [2, 3, 4, 2, 2], [2, 3, 4, 2, 2]]]\n"
     ]
    }
   ],
   "source": [
    "print(L)"
   ]
  },
  {
   "cell_type": "code",
   "execution_count": null,
   "metadata": {},
   "outputs": [],
   "source": [
    "2X3X5"
   ]
  }
 ],
 "metadata": {
  "kernelspec": {
   "display_name": "Python 3",
   "language": "python",
   "name": "python3"
  },
  "language_info": {
   "codemirror_mode": {
    "name": "ipython",
    "version": 3
   },
   "file_extension": ".py",
   "mimetype": "text/x-python",
   "name": "python",
   "nbconvert_exporter": "python",
   "pygments_lexer": "ipython3",
   "version": "3.7.4"
  }
 },
 "nbformat": 4,
 "nbformat_minor": 2
}
