{
 "cells": [
  {
   "cell_type": "markdown",
   "metadata": {},
   "source": [
    "# Dictionary"
   ]
  },
  {
   "cell_type": "markdown",
   "metadata": {},
   "source": [
    "Dictionary is an object that stores a collection of data. Each element in a dictionary has two parts. a key and a value. You use  akey to locate a specific value."
   ]
  },
  {
   "cell_type": "code",
   "execution_count": 3,
   "metadata": {},
   "outputs": [],
   "source": [
    "people = { 'Abdulrazak': 30, 'Mohamed': [23, 22, 21,20], 'Salad': 90, 'Sadik': 34, 'Aisha': 54}"
   ]
  },
  {
   "cell_type": "code",
   "execution_count": 4,
   "metadata": {},
   "outputs": [
    {
     "data": {
      "text/plain": [
       "{'Abdulrazak': 30,\n",
       " 'Mohamed': [23, 22, 21, 20],\n",
       " 'Salad': 90,\n",
       " 'Sadik': 34,\n",
       " 'Aisha': 54}"
      ]
     },
     "execution_count": 4,
     "metadata": {},
     "output_type": "execute_result"
    }
   ],
   "source": [
    "people"
   ]
  },
  {
   "cell_type": "markdown",
   "metadata": {},
   "source": [
    "### Membership operator in Dictionaries"
   ]
  },
  {
   "cell_type": "code",
   "execution_count": 6,
   "metadata": {},
   "outputs": [
    {
     "name": "stdout",
     "output_type": "stream",
     "text": [
      "30  years old\n"
     ]
    }
   ],
   "source": [
    "if 'Salad' in people:\n",
    "    print(people['Abdulrazak'],' years old')\n",
    "else:\n",
    "    print('person not found')"
   ]
  },
  {
   "cell_type": "code",
   "execution_count": 11,
   "metadata": {},
   "outputs": [
    {
     "name": "stdout",
     "output_type": "stream",
     "text": [
      "Register 'Bashir' now\n"
     ]
    }
   ],
   "source": [
    "if 'Bashir' not in people:\n",
    "    print('Register \\'Bashir\\' now')\n",
    "else:\n",
    "    print('Bashir is in the list')"
   ]
  },
  {
   "cell_type": "markdown",
   "metadata": {},
   "source": [
    "### Deleting an element in Dictionary"
   ]
  },
  {
   "cell_type": "code",
   "execution_count": 7,
   "metadata": {},
   "outputs": [
    {
     "name": "stdout",
     "output_type": "stream",
     "text": [
      "{'Abdulrazak': 30, 'Mohamed': [23, 22, 21, 20], 'Sadik': 34, 'Aisha': 54}\n"
     ]
    }
   ],
   "source": [
    "del people['Salad']\n",
    "print(people)"
   ]
  },
  {
   "cell_type": "markdown",
   "metadata": {},
   "source": [
    "### Dictionary Methods"
   ]
  },
  {
   "cell_type": "markdown",
   "metadata": {},
   "source": [
    "- clear: clears the contents of a dict\n",
    "- get: gets a value associates with specified key\n",
    "- items: return all the keys in a dictionary as sequence of tuples\n",
    "- keys: Returns all the keys in a dictionary\n",
    "- pop: returns the value associated with a specified key and removes the key-value pair from the dict\n",
    "- popitem: reurns a randomly selected key-value pair as a tuple from the dictionary.\n",
    "- values: returns all the values in the dictionary as sequence of tuples."
   ]
  },
  {
   "cell_type": "code",
   "execution_count": null,
   "metadata": {},
   "outputs": [],
   "source": []
  }
 ],
 "metadata": {
  "kernelspec": {
   "display_name": "Python 3",
   "language": "python",
   "name": "python3"
  },
  "language_info": {
   "codemirror_mode": {
    "name": "ipython",
    "version": 3
   },
   "file_extension": ".py",
   "mimetype": "text/x-python",
   "name": "python",
   "nbconvert_exporter": "python",
   "pygments_lexer": "ipython3",
   "version": "3.7.4"
  }
 },
 "nbformat": 4,
 "nbformat_minor": 2
}
