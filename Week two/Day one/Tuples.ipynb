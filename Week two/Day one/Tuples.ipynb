{
 "cells": [
  {
   "cell_type": "markdown",
   "metadata": {},
   "source": [
    "# Tuples"
   ]
  },
  {
   "cell_type": "markdown",
   "metadata": {},
   "source": [
    "### A tuple is a sequence, very much like a list. The primary diference between list and tuple are tuples are immutable."
   ]
  },
  {
   "cell_type": "code",
   "execution_count": 2,
   "metadata": {},
   "outputs": [
    {
     "name": "stdout",
     "output_type": "stream",
     "text": [
      "List are mutuable\n",
      "[10, 'sahal', 80, 90]\n",
      "[10, 'sahal', 80, 'Kamal']\n"
     ]
    }
   ],
   "source": [
    "print('List are mutuable')\n",
    "L = [10, 'sahal', 80, 90]\n",
    "print(L)\n",
    "L[3] = 'Kamal'\n",
    "print(L)"
   ]
  },
  {
   "cell_type": "code",
   "execution_count": 4,
   "metadata": {},
   "outputs": [
    {
     "ename": "SyntaxError",
     "evalue": "can't assign to function call (<ipython-input-4-8f7381716926>, line 4)",
     "output_type": "error",
     "traceback": [
      "\u001b[1;36m  File \u001b[1;32m\"<ipython-input-4-8f7381716926>\"\u001b[1;36m, line \u001b[1;32m4\u001b[0m\n\u001b[1;33m    T(3) = 'Kamal'\u001b[0m\n\u001b[1;37m                  ^\u001b[0m\n\u001b[1;31mSyntaxError\u001b[0m\u001b[1;31m:\u001b[0m can't assign to function call\n"
     ]
    }
   ],
   "source": [
    "print('while tuples are imutuable!')\n",
    "T = (10, 'sahal', 80, 90)\n",
    "print(T)\n",
    "T(3) = 'Kamal'\n",
    "print(T)"
   ]
  },
  {
   "cell_type": "markdown",
   "metadata": {},
   "source": [
    "#### Converting between List and Tuples"
   ]
  },
  {
   "cell_type": "code",
   "execution_count": 1,
   "metadata": {},
   "outputs": [
    {
     "name": "stdout",
     "output_type": "stream",
     "text": [
      "t is tuple: t =  (20, 30, 10, 100)\n",
      "t is converted to a list A,  A = [20, 30, 10, 100]\n"
     ]
    }
   ],
   "source": [
    "t = (20, 30, 10, 100)\n",
    "print('t is tuple: t = ', t)\n",
    "A = list(t)\n",
    "print('t is converted to a list A,  A =', A)"
   ]
  },
  {
   "cell_type": "code",
   "execution_count": null,
   "metadata": {},
   "outputs": [],
   "source": []
  }
 ],
 "metadata": {
  "kernelspec": {
   "display_name": "Python 3",
   "language": "python",
   "name": "python3"
  },
  "language_info": {
   "codemirror_mode": {
    "name": "ipython",
    "version": 3
   },
   "file_extension": ".py",
   "mimetype": "text/x-python",
   "name": "python",
   "nbconvert_exporter": "python",
   "pygments_lexer": "ipython3",
   "version": "3.7.4"
  }
 },
 "nbformat": 4,
 "nbformat_minor": 2
}
