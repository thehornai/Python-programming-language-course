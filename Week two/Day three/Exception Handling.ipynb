{
 "cells": [
  {
   "cell_type": "markdown",
   "metadata": {},
   "source": [
    "# Exception "
   ]
  },
  {
   "cell_type": "markdown",
   "metadata": {},
   "source": [
    "Python provides two very important features to handle any unexpected error in your Python programs and to add debugging capabilities in them −\n",
    "- **Exception Handling**\n",
    "- **Assertions** "
   ]
  },
  {
   "cell_type": "markdown",
   "metadata": {},
   "source": [
    "## Standard Exceptions"
   ]
  },
  {
   "cell_type": "markdown",
   "metadata": {},
   "source": [
    "**Exception**: Base class for all exceptions <br>\n",
    "**StopIteration**: Raised when the next() method of an iterator does not point to any object.<br>\n",
    "**SystemExit**: Raised by the sys.exit() function.<br>\n",
    "**StandardError**: Base class for all built-in exceptions except StopIteration and SystemExit.<br>\n",
    "**ArithmeticError**: Base class for all errors that occur for numeric calculation.<br>\n",
    "**OverflowError**: Raised when a calculation exceeds maximum limit for a numeric type.<br>\n",
    "**FloatingPointError**: Raised when a floating point calculation fails.<br>\n",
    "**ZeroDivisonError**: Raised when division or modulo by zero takes place for all numeric types.<br>\n",
    "**AssertionError**: Raised in case of failure of the Assert statement.<br>\n",
    "**AttributeError**: Raised in case of failure of attribute reference or assignment.<br>\n",
    "**EOFError**: Raised when there is no input from either the raw_input() or input() function and the end of file is reached.<br>\n",
    "**ImportError**: Raised when an import statement fails.<br>\n",
    "**KeyboardInterrupt**: Raised when the user interrupts program execution, usually by pressing Ctrl+c. <br>\n",
    "**LookupError**: Base class for all lookup errors. <br>\n",
    "**IndexError**: Raised when an index is not found in a sequence.<br>\n",
    "**KeyError**: Raised when the specified key is not found in the dictionary.<br>\n",
    "**NameError**: Raised when an identifier is not found in the local or global namespace.<br>\n",
    "**UnboundLocalError**: Raised when trying to access a local variable in a function or method but no value has been assigned to it. <br>\n",
    "**EnvironmentError**: Base class for all exceptions that occur outside the Python environment.<br>\n",
    "**IOError**: Raised when an input/ output operation fails, such as the print statement or the open() function when trying to open a file that does not exist.<br>\n",
    "**OSError**: Raised for operating system-related errors. <br>\n",
    "**SyntaxError**: Raised when there is an error in Python syntax. <br>\n",
    "**IndentationError**: Raised when indentation is not specified properly. <br>\n",
    "**SystemError**: Raised when the interpreter finds an internal problem, but when this error is encountered the Python interpreter does not exit.<br>\n",
    "**SystemExit**: Raised when Python interpreter is quit by using the sys.exit() function. If not handled in the code, causes the interpreter to exit. <br>\n",
    "**TypeError**: Raised when an operation or function is attempted that is invalid for the specified data type.<br>\n",
    "**ValueError**: Raised when the built-in function for a data type has the valid type of arguments, but the arguments have invalid values specified. <br>\n",
    "**RuntimeError**: Raised when a generated error does not fall into any category. <br>\n",
    "**NotImplementedError**: Raised when an abstract method that needs to be implemented in an inherited class is not actually implemented. <br>"
   ]
  },
  {
   "cell_type": "code",
   "execution_count": null,
   "metadata": {},
   "outputs": [],
   "source": []
  },
  {
   "cell_type": "code",
   "execution_count": null,
   "metadata": {},
   "outputs": [],
   "source": []
  },
  {
   "cell_type": "code",
   "execution_count": null,
   "metadata": {},
   "outputs": [],
   "source": []
  }
 ],
 "metadata": {
  "kernelspec": {
   "display_name": "Python 3",
   "language": "python",
   "name": "python3"
  },
  "language_info": {
   "codemirror_mode": {
    "name": "ipython",
    "version": 3
   },
   "file_extension": ".py",
   "mimetype": "text/x-python",
   "name": "python",
   "nbconvert_exporter": "python",
   "pygments_lexer": "ipython3",
   "version": "3.7.4"
  }
 },
 "nbformat": 4,
 "nbformat_minor": 2
}
